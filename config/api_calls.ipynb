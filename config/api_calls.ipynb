{
 "cells": [
  {
   "cell_type": "code",
   "execution_count": 3,
   "metadata": {
    "vscode": {
     "languageId": "powershell"
    }
   },
   "outputs": [],
   "source": [
    "import requests"
   ]
  },
  {
   "cell_type": "code",
   "execution_count": 13,
   "metadata": {
    "vscode": {
     "languageId": "powershell"
    }
   },
   "outputs": [
    {
     "name": "stderr",
     "output_type": "stream",
     "text": [
      "c:\\Users\\Elize.Petrovska\\AppData\\Local\\anaconda3\\Lib\\site-packages\\urllib3\\connectionpool.py:1056: InsecureRequestWarning: Unverified HTTPS request is being made to host 'ice-cream-factory.inso-internal.cognite.ai'. Adding certificate verification is strongly advised. See: https://urllib3.readthedocs.io/en/1.26.x/advanced-usage.html#ssl-warnings\n",
      "  warnings.warn(\n"
     ]
    },
    {
     "name": "stdout",
     "output_type": "stream",
     "text": [
      "1021\n"
     ]
    }
   ],
   "source": [
    "link = 'https://ice-cream-factory.inso-internal.cognite.ai/site/all'\n",
    "response = requests.get(link, verify=False)\n",
    "no_of_assets = len(response.json())\n",
    "print(no_of_assets)"
   ]
  },
  {
   "cell_type": "code",
   "execution_count": 15,
   "metadata": {
    "vscode": {
     "languageId": "powershell"
    }
   },
   "outputs": [
    {
     "name": "stdout",
     "output_type": "stream",
     "text": [
      "57\n"
     ]
    },
    {
     "name": "stderr",
     "output_type": "stream",
     "text": [
      "c:\\Users\\Elize.Petrovska\\AppData\\Local\\anaconda3\\Lib\\site-packages\\urllib3\\connectionpool.py:1056: InsecureRequestWarning: Unverified HTTPS request is being made to host 'ice-cream-factory.inso-internal.cognite.ai'. Adding certificate verification is strongly advised. See: https://urllib3.readthedocs.io/en/1.26.x/advanced-usage.html#ssl-warnings\n",
      "  warnings.warn(\n"
     ]
    }
   ],
   "source": [
    "link = 'https://ice-cream-factory.inso-internal.cognite.ai/site/oslo'\n",
    "response = requests.get(link, verify=False)\n",
    "no_of_assets = len(response.json())\n",
    "print(no_of_assets-1)"
   ]
  },
  {
   "cell_type": "code",
   "execution_count": 20,
   "metadata": {
    "vscode": {
     "languageId": "powershell"
    }
   },
   "outputs": [
    {
     "name": "stderr",
     "output_type": "stream",
     "text": [
      "c:\\Users\\Elize.Petrovska\\AppData\\Local\\anaconda3\\Lib\\site-packages\\urllib3\\connectionpool.py:1056: InsecureRequestWarning: Unverified HTTPS request is being made to host 'ice-cream-factory.inso-internal.cognite.ai'. Adding certificate verification is strongly advised. See: https://urllib3.readthedocs.io/en/1.26.x/advanced-usage.html#ssl-warnings\n",
      "  warnings.warn(\n"
     ]
    },
    {
     "data": {
      "text/plain": [
       "4"
      ]
     },
     "execution_count": 20,
     "metadata": {},
     "output_type": "execute_result"
    }
   ],
   "source": [
    "import json\n",
    "link = 'https://ice-cream-factory.inso-internal.cognite.ai/timeseries/oee'\n",
    "response = requests.get(link, verify=False)\n",
    "data = response.json()\n",
    "\n",
    "type_values = [entry['metadata']['type'] for entry in data]\n",
    "len(set(type_values))"
   ]
  },
  {
   "cell_type": "code",
   "execution_count": 19,
   "metadata": {
    "vscode": {
     "languageId": "powershell"
    }
   },
   "outputs": [
    {
     "data": {
      "text/plain": [
       "{'count', 'good', 'planned_status', 'status'}"
      ]
     },
     "execution_count": 19,
     "metadata": {},
     "output_type": "execute_result"
    }
   ],
   "source": []
  },
  {
   "cell_type": "code",
   "execution_count": 26,
   "metadata": {
    "vscode": {
     "languageId": "powershell"
    }
   },
   "outputs": [
    {
     "name": "stderr",
     "output_type": "stream",
     "text": [
      "c:\\Users\\Elize.Petrovska\\AppData\\Local\\anaconda3\\Lib\\site-packages\\urllib3\\connectionpool.py:1056: InsecureRequestWarning: Unverified HTTPS request is being made to host 'ice-cream-factory.inso-internal.cognite.ai'. Adding certificate verification is strongly advised. See: https://urllib3.readthedocs.io/en/1.26.x/advanced-usage.html#ssl-warnings\n",
      "  warnings.warn(\n"
     ]
    }
   ],
   "source": []
  },
  {
   "cell_type": "code",
   "execution_count": 34,
   "metadata": {
    "vscode": {
     "languageId": "powershell"
    }
   },
   "outputs": [],
   "source": [
    "import requests\n",
    "import pandas as pd\n",
    "import os\n",
    "link = 'https://ice-cream-factory.inso-internal.cognite.ai/site/oslo'\n",
    "response = requests.get(link, verify=False)\n",
    "import pandas as pd\n",
    "import os\n",
    "data = response.json()[:5]\n",
    "df = pd.DataFrame(data)\n",
    "df.to_csv(os.path.join('C:\\\\Users\\\\Elize.Petrovska\\\\OneDrive - Worley\\\\Documents\\\\4 - Training\\\\Cognite Bootcamp', 'oslo_short.csv'))"
   ]
  },
  {
   "cell_type": "code",
   "execution_count": 32,
   "metadata": {
    "vscode": {
     "languageId": "powershell"
    }
   },
   "outputs": [
    {
     "data": {
      "text/html": [
       "<div>\n",
       "<style scoped>\n",
       "    .dataframe tbody tr th:only-of-type {\n",
       "        vertical-align: middle;\n",
       "    }\n",
       "\n",
       "    .dataframe tbody tr th {\n",
       "        vertical-align: top;\n",
       "    }\n",
       "\n",
       "    .dataframe thead th {\n",
       "        text-align: right;\n",
       "    }\n",
       "</style>\n",
       "<table border=\"1\" class=\"dataframe\">\n",
       "  <thead>\n",
       "    <tr style=\"text-align: right;\">\n",
       "      <th></th>\n",
       "      <th>name</th>\n",
       "      <th>external_id</th>\n",
       "      <th>description</th>\n",
       "      <th>labels</th>\n",
       "      <th>metadata</th>\n",
       "      <th>parent_external_id</th>\n",
       "    </tr>\n",
       "  </thead>\n",
       "  <tbody>\n",
       "    <tr>\n",
       "      <th>0</th>\n",
       "      <td>Oslo</td>\n",
       "      <td>oslo</td>\n",
       "      <td>Site in Oslo, Norway</td>\n",
       "      <td>[isa95:site]</td>\n",
       "      <td>{'site': 'Oslo', 'country': 'Norway', 'size': ...</td>\n",
       "      <td>NaN</td>\n",
       "    </tr>\n",
       "    <tr>\n",
       "      <th>1</th>\n",
       "      <td>Receiving &amp; Raw Materials</td>\n",
       "      <td>oslo_receiving_and_raw</td>\n",
       "      <td>NaN</td>\n",
       "      <td>[isa95:area]</td>\n",
       "      <td>{'site': 'Oslo', 'src': 'sap', 'type': 'receiv...</td>\n",
       "      <td>oslo</td>\n",
       "    </tr>\n",
       "    <tr>\n",
       "      <th>2</th>\n",
       "      <td>Liquid Storage</td>\n",
       "      <td>oslo_receiving_and_raw_liquid_storage</td>\n",
       "      <td>NaN</td>\n",
       "      <td>[isa95:storage_zone]</td>\n",
       "      <td>{'Inventory size': '8000L', 'site': 'Oslo', 's...</td>\n",
       "      <td>oslo_receiving_and_raw</td>\n",
       "    </tr>\n",
       "    <tr>\n",
       "      <th>3</th>\n",
       "      <td>Dry Storage</td>\n",
       "      <td>oslo_receiving_and_raw_dry_storage</td>\n",
       "      <td>NaN</td>\n",
       "      <td>[isa95:storage_zone]</td>\n",
       "      <td>{'Inventory size': '25x50', 'Temperature': '1-...</td>\n",
       "      <td>oslo_receiving_and_raw</td>\n",
       "    </tr>\n",
       "    <tr>\n",
       "      <th>4</th>\n",
       "      <td>Product</td>\n",
       "      <td>oslo_product</td>\n",
       "      <td>NaN</td>\n",
       "      <td>[isa95:area]</td>\n",
       "      <td>{'site': 'Oslo', 'src': 'sap', 'type': 'product'}</td>\n",
       "      <td>oslo</td>\n",
       "    </tr>\n",
       "  </tbody>\n",
       "</table>\n",
       "</div>"
      ],
      "text/plain": [
       "                        name                            external_id  \\\n",
       "0                       Oslo                                   oslo   \n",
       "1  Receiving & Raw Materials                 oslo_receiving_and_raw   \n",
       "2             Liquid Storage  oslo_receiving_and_raw_liquid_storage   \n",
       "3                Dry Storage     oslo_receiving_and_raw_dry_storage   \n",
       "4                    Product                           oslo_product   \n",
       "\n",
       "            description                labels  \\\n",
       "0  Site in Oslo, Norway          [isa95:site]   \n",
       "1                   NaN          [isa95:area]   \n",
       "2                   NaN  [isa95:storage_zone]   \n",
       "3                   NaN  [isa95:storage_zone]   \n",
       "4                   NaN          [isa95:area]   \n",
       "\n",
       "                                            metadata      parent_external_id  \n",
       "0  {'site': 'Oslo', 'country': 'Norway', 'size': ...                     NaN  \n",
       "1  {'site': 'Oslo', 'src': 'sap', 'type': 'receiv...                    oslo  \n",
       "2  {'Inventory size': '8000L', 'site': 'Oslo', 's...  oslo_receiving_and_raw  \n",
       "3  {'Inventory size': '25x50', 'Temperature': '1-...  oslo_receiving_and_raw  \n",
       "4  {'site': 'Oslo', 'src': 'sap', 'type': 'product'}                    oslo  "
      ]
     },
     "execution_count": 32,
     "metadata": {},
     "output_type": "execute_result"
    }
   ],
   "source": [
    "df"
   ]
  },
  {
   "cell_type": "code",
   "execution_count": null,
   "metadata": {
    "vscode": {
     "languageId": "powershell"
    }
   },
   "outputs": [],
   "source": []
  }
 ],
 "metadata": {
  "kernelspec": {
   "display_name": "base",
   "language": "python",
   "name": "python3"
  },
  "language_info": {
   "codemirror_mode": {
    "name": "ipython",
    "version": 3
   },
   "file_extension": ".py",
   "mimetype": "text/x-python",
   "name": "python",
   "nbconvert_exporter": "python",
   "pygments_lexer": "ipython3",
   "version": "3.11.5"
  }
 },
 "nbformat": 4,
 "nbformat_minor": 2
}
